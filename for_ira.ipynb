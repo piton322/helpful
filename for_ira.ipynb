{
  "nbformat": 4,
  "nbformat_minor": 0,
  "metadata": {
    "colab": {
      "name": "for_ira.ipynb",
      "provenance": []
    },
    "kernelspec": {
      "name": "python3",
      "display_name": "Python 3"
    },
    "language_info": {
      "name": "python"
    }
  },
  "cells": [
    {
      "cell_type": "code",
      "source": [
        "import numpy as np\n",
        "import scipy"
      ],
      "metadata": {
        "id": "DReoz9T-COGc"
      },
      "execution_count": 4,
      "outputs": []
    },
    {
      "cell_type": "markdown",
      "source": [
        "**Z-критерий для несвязанных выборок**"
      ],
      "metadata": {
        "id": "w3uXuV-0GO5D"
      }
    },
    {
      "cell_type": "markdown",
      "source": [
        "Для проверки гипотезы о равентсве долей используется критерий аналогично критерию Стьюдента t.\n",
        "\n",
        "**z** = $ \\Large \\frac{\\text{Разность выборочных долей}} {\\text{Стандартная ошибка разности выборочных долей}}  = \\frac{\\hat{p_1}-\\hat{p_2}} {{S_{\\hat{p_1} - \\hat{p_2}}}}  = \\frac{\\hat{p_1}-\\hat{p_2}} { \\sqrt{ S_{\\hat{p_1}}^2 +  S_{\\hat{p_2}}^2 } } = \\frac{\\hat{p_1}-\\hat{p_2}} { \\sqrt{ \\frac{\\hat{p_1}(1-\\hat{p_1})} {n_1} +  \\frac{\\hat{p_2}(1-\\hat{p_2})} {n_2} } } $\n",
        "\n",
        "\n",
        "**z**  $ \\Large = \\frac{|\\hat{p_1}-\\hat{p_2}| - \\frac{1} {2} (\\frac{1} {n_1} + \\frac{1} {n_2} ) } { \\sqrt{ \\frac{\\hat{p_1}(1-\\hat{p_1})} {n_1} +  \\frac{\\hat{p_2}(1-\\hat{p_2})} {n_2} } }$"
      ],
      "metadata": {
        "id": "aJ2LWo6oB1j1"
      }
    },
    {
      "cell_type": "markdown",
      "source": [
        "Корректно использовать в том случае, когда n*p и n*(1 − p) превосходят 5 для всех групп."
      ],
      "metadata": {
        "id": "smpDq5PvB7G3"
      }
    },
    {
      "cell_type": "markdown",
      "source": [
        "Пример:\n",
        "**Задача.** DC работает над новым баннером, который хочет разместить на одной из своих рекламных площадок. Было придумано 2 варианта баннеров (A и B). На первый баннер за первые сутки кликнуло 100 человек из 300 посетителей, на второй баннер 400 человек из 800 посетителей. Решить,какой баннер оставлять."
      ],
      "metadata": {
        "id": "1YJkUIXIB9AZ"
      }
    },
    {
      "cell_type": "markdown",
      "source": [
        "Гипотезы:\n",
        "\n",
        "H0: доля кликов по двум баннерам одинакова\n",
        "\n",
        "H1: доля кликов по баннеру А меньше, чем по баннеру B"
      ],
      "metadata": {
        "id": "Q8XFDT79CHBy"
      }
    },
    {
      "cell_type": "code",
      "execution_count": 2,
      "metadata": {
        "colab": {
          "base_uri": "https://localhost:8080/"
        },
        "id": "QdVmyuc6BFRe",
        "outputId": "992785ce-8592-4a8c-a616-725b3983d684"
      },
      "outputs": [
        {
          "output_type": "stream",
          "name": "stderr",
          "text": [
            "/usr/local/lib/python3.7/dist-packages/statsmodels/tools/_testing.py:19: FutureWarning: pandas.util.testing is deprecated. Use the functions in the public API at pandas.testing instead.\n",
            "  import pandas.util.testing as tm\n"
          ]
        },
        {
          "output_type": "execute_result",
          "data": {
            "text/plain": [
              "(-1.279415789297898, 0.10037533831983553)"
            ]
          },
          "metadata": {},
          "execution_count": 2
        }
      ],
      "source": [
        "from statsmodels.stats.proportion import proportions_ztest\n",
        "count = np.array([100, 300])\n",
        "nobs = np.array([300, 800])\n",
        "proportions_ztest(count, nobs, alternative='smaller')"
      ]
    },
    {
      "cell_type": "markdown",
      "source": [
        "Здесь второе значение 0.10037.. это p-value или уровень значимости.\n",
        "Уровень значимости — допустимая для данной задачи вероятность ошибки первого рода (ложноположительного решения, false positive), то есть вероятность отклонить нулевую гипотезу, когда на самом деле она верна."
      ],
      "metadata": {
        "id": "18k396IXC9Tm"
      }
    },
    {
      "cell_type": "markdown",
      "source": [
        "Обычно считают, что если p-value > 0.5, то нельзя отвергать нулевую гипотезу. Чем больше p-value, тем больше тест уверен, что гипотеза правильная. В итоге, исходная гипотеза подтвердилась."
      ],
      "metadata": {
        "id": "DGc5HrCLDnvJ"
      }
    },
    {
      "cell_type": "markdown",
      "source": [
        "Текущая задача:\n",
        "Изменилось ли количество упоминаний Витамишки с 23 февраля?"
      ],
      "metadata": {
        "id": "Kyu11_0CDo41"
      }
    },
    {
      "cell_type": "markdown",
      "source": [
        "H0: количество упоминаний одинаково\n",
        "\n",
        "H1: количество упоминаний после 23 февраля меньше"
      ],
      "metadata": {
        "id": "UYw98vIlEEby"
      }
    },
    {
      "cell_type": "code",
      "source": [
        "first = np.array([1716, 2172])\n",
        "second = np.array([610, 763])\n",
        "proportions_ztest(second, first, alternative='smaller')"
      ],
      "metadata": {
        "colab": {
          "base_uri": "https://localhost:8080/"
        },
        "id": "kxxsik1CC8PM",
        "outputId": "a0204487-b721-4aac-de1e-0f6113e16513"
      },
      "execution_count": 3,
      "outputs": [
        {
          "output_type": "execute_result",
          "data": {
            "text/plain": [
              "(0.27134939349587817, 0.6069388397888845)"
            ]
          },
          "metadata": {},
          "execution_count": 3
        }
      ]
    },
    {
      "cell_type": "markdown",
      "source": [
        "Т. е. тест с 60% вероятностью говорит, что нельзя отвергнуть нулевую гипотезу или другими словами тест сильно уверен, что количество упоминаний не изменилось"
      ],
      "metadata": {
        "id": "z0b-jK4_Frrc"
      }
    },
    {
      "cell_type": "markdown",
      "source": [
        "**Критерий Хи-квадрат**"
      ],
      "metadata": {
        "id": "dvo1dpg3H2-r"
      }
    },
    {
      "cell_type": "code",
      "source": [
        "from scipy.stats import chi2_contingency\n",
        "import pandas as pd"
      ],
      "metadata": {
        "id": "oMvCOYLUINmv"
      },
      "execution_count": 14,
      "outputs": []
    },
    {
      "cell_type": "code",
      "source": [
        "data = pd.DataFrame()\n",
        "data['до 23'] = [1716, 2172 - 1716, 2172]\n",
        "data['после'] = [610, 763 - 610, 763]\n",
        "data.index = ['упоминаний Витамишки', 'другое','Итого']\n",
        "data['Всего'] = data['до 23'] + data['после']\n",
        "data"
      ],
      "metadata": {
        "colab": {
          "base_uri": "https://localhost:8080/",
          "height": 143
        },
        "id": "cuqT2oo8ITgp",
        "outputId": "b0edb044-e975-4380-ff11-9349d7a9a717"
      },
      "execution_count": 17,
      "outputs": [
        {
          "output_type": "execute_result",
          "data": {
            "text/plain": [
              "                      до 23  после  Всего\n",
              "упоминаний Витамишки   1716    610   2326\n",
              "другое                  456    153    609\n",
              "Итого                  2172    763   2935"
            ],
            "text/html": [
              "\n",
              "  <div id=\"df-d2481d63-8529-4dc3-947d-2350f16324b4\">\n",
              "    <div class=\"colab-df-container\">\n",
              "      <div>\n",
              "<style scoped>\n",
              "    .dataframe tbody tr th:only-of-type {\n",
              "        vertical-align: middle;\n",
              "    }\n",
              "\n",
              "    .dataframe tbody tr th {\n",
              "        vertical-align: top;\n",
              "    }\n",
              "\n",
              "    .dataframe thead th {\n",
              "        text-align: right;\n",
              "    }\n",
              "</style>\n",
              "<table border=\"1\" class=\"dataframe\">\n",
              "  <thead>\n",
              "    <tr style=\"text-align: right;\">\n",
              "      <th></th>\n",
              "      <th>до 23</th>\n",
              "      <th>после</th>\n",
              "      <th>Всего</th>\n",
              "    </tr>\n",
              "  </thead>\n",
              "  <tbody>\n",
              "    <tr>\n",
              "      <th>упоминаний Витамишки</th>\n",
              "      <td>1716</td>\n",
              "      <td>610</td>\n",
              "      <td>2326</td>\n",
              "    </tr>\n",
              "    <tr>\n",
              "      <th>другое</th>\n",
              "      <td>456</td>\n",
              "      <td>153</td>\n",
              "      <td>609</td>\n",
              "    </tr>\n",
              "    <tr>\n",
              "      <th>Итого</th>\n",
              "      <td>2172</td>\n",
              "      <td>763</td>\n",
              "      <td>2935</td>\n",
              "    </tr>\n",
              "  </tbody>\n",
              "</table>\n",
              "</div>\n",
              "      <button class=\"colab-df-convert\" onclick=\"convertToInteractive('df-d2481d63-8529-4dc3-947d-2350f16324b4')\"\n",
              "              title=\"Convert this dataframe to an interactive table.\"\n",
              "              style=\"display:none;\">\n",
              "        \n",
              "  <svg xmlns=\"http://www.w3.org/2000/svg\" height=\"24px\"viewBox=\"0 0 24 24\"\n",
              "       width=\"24px\">\n",
              "    <path d=\"M0 0h24v24H0V0z\" fill=\"none\"/>\n",
              "    <path d=\"M18.56 5.44l.94 2.06.94-2.06 2.06-.94-2.06-.94-.94-2.06-.94 2.06-2.06.94zm-11 1L8.5 8.5l.94-2.06 2.06-.94-2.06-.94L8.5 2.5l-.94 2.06-2.06.94zm10 10l.94 2.06.94-2.06 2.06-.94-2.06-.94-.94-2.06-.94 2.06-2.06.94z\"/><path d=\"M17.41 7.96l-1.37-1.37c-.4-.4-.92-.59-1.43-.59-.52 0-1.04.2-1.43.59L10.3 9.45l-7.72 7.72c-.78.78-.78 2.05 0 2.83L4 21.41c.39.39.9.59 1.41.59.51 0 1.02-.2 1.41-.59l7.78-7.78 2.81-2.81c.8-.78.8-2.07 0-2.86zM5.41 20L4 18.59l7.72-7.72 1.47 1.35L5.41 20z\"/>\n",
              "  </svg>\n",
              "      </button>\n",
              "      \n",
              "  <style>\n",
              "    .colab-df-container {\n",
              "      display:flex;\n",
              "      flex-wrap:wrap;\n",
              "      gap: 12px;\n",
              "    }\n",
              "\n",
              "    .colab-df-convert {\n",
              "      background-color: #E8F0FE;\n",
              "      border: none;\n",
              "      border-radius: 50%;\n",
              "      cursor: pointer;\n",
              "      display: none;\n",
              "      fill: #1967D2;\n",
              "      height: 32px;\n",
              "      padding: 0 0 0 0;\n",
              "      width: 32px;\n",
              "    }\n",
              "\n",
              "    .colab-df-convert:hover {\n",
              "      background-color: #E2EBFA;\n",
              "      box-shadow: 0px 1px 2px rgba(60, 64, 67, 0.3), 0px 1px 3px 1px rgba(60, 64, 67, 0.15);\n",
              "      fill: #174EA6;\n",
              "    }\n",
              "\n",
              "    [theme=dark] .colab-df-convert {\n",
              "      background-color: #3B4455;\n",
              "      fill: #D2E3FC;\n",
              "    }\n",
              "\n",
              "    [theme=dark] .colab-df-convert:hover {\n",
              "      background-color: #434B5C;\n",
              "      box-shadow: 0px 1px 3px 1px rgba(0, 0, 0, 0.15);\n",
              "      filter: drop-shadow(0px 1px 2px rgba(0, 0, 0, 0.3));\n",
              "      fill: #FFFFFF;\n",
              "    }\n",
              "  </style>\n",
              "\n",
              "      <script>\n",
              "        const buttonEl =\n",
              "          document.querySelector('#df-d2481d63-8529-4dc3-947d-2350f16324b4 button.colab-df-convert');\n",
              "        buttonEl.style.display =\n",
              "          google.colab.kernel.accessAllowed ? 'block' : 'none';\n",
              "\n",
              "        async function convertToInteractive(key) {\n",
              "          const element = document.querySelector('#df-d2481d63-8529-4dc3-947d-2350f16324b4');\n",
              "          const dataTable =\n",
              "            await google.colab.kernel.invokeFunction('convertToInteractive',\n",
              "                                                     [key], {});\n",
              "          if (!dataTable) return;\n",
              "\n",
              "          const docLinkHtml = 'Like what you see? Visit the ' +\n",
              "            '<a target=\"_blank\" href=https://colab.research.google.com/notebooks/data_table.ipynb>data table notebook</a>'\n",
              "            + ' to learn more about interactive tables.';\n",
              "          element.innerHTML = '';\n",
              "          dataTable['output_type'] = 'display_data';\n",
              "          await google.colab.output.renderOutput(dataTable, element);\n",
              "          const docLink = document.createElement('div');\n",
              "          docLink.innerHTML = docLinkHtml;\n",
              "          element.appendChild(docLink);\n",
              "        }\n",
              "      </script>\n",
              "    </div>\n",
              "  </div>\n",
              "  "
            ]
          },
          "metadata": {},
          "execution_count": 17
        }
      ]
    },
    {
      "cell_type": "markdown",
      "source": [
        "При работе с критерием хи-квадрат встречается понятие, как таблица ожидаемых значений.\n",
        "\n",
        "Примем нулевую гипотезу H0, что упоминаемость Витамишек одинакова, тогда:"
      ],
      "metadata": {
        "id": "PPkcmt1BJQw8"
      }
    },
    {
      "cell_type": "code",
      "source": [
        "yp_total = 2172/2935\n",
        "non_yp_total = 763/2935"
      ],
      "metadata": {
        "id": "Y0PqC3hmJVs4"
      },
      "execution_count": 18,
      "outputs": []
    },
    {
      "cell_type": "code",
      "source": [
        "first_yp = yp_total * 2326\n",
        "second_yp = yp_total * 609\n",
        "\n",
        "first_non_yp = non_yp_total * 2326\n",
        "second_non_yp = non_yp_total * 609"
      ],
      "metadata": {
        "id": "cxLLqbPJJuZk"
      },
      "execution_count": 19,
      "outputs": []
    },
    {
      "cell_type": "code",
      "source": [
        "data_E = pd.DataFrame()\n",
        "data_E['до 23'] = [first_yp,second_yp,2172]\n",
        "data_E['после'] = [first_non_yp, second_non_yp,763]\n",
        "data_E.index = ['упоминаний Витамишки', 'другое','Итого']\n",
        "data_E['Всего'] = data_E['до 23'] + data_E['после']\n",
        "data_E"
      ],
      "metadata": {
        "colab": {
          "base_uri": "https://localhost:8080/",
          "height": 143
        },
        "id": "3zsywAqeKLc_",
        "outputId": "6e16d156-b6b2-438f-a065-c24e08405df0"
      },
      "execution_count": 20,
      "outputs": [
        {
          "output_type": "execute_result",
          "data": {
            "text/plain": [
              "                           до 23      после   Всего\n",
              "упоминаний Витамишки  1721.31925  604.68075  2326.0\n",
              "другое                 450.68075  158.31925   609.0\n",
              "Итого                 2172.00000  763.00000  2935.0"
            ],
            "text/html": [
              "\n",
              "  <div id=\"df-ed922e4a-8d71-4614-b81e-d5080b5b6a75\">\n",
              "    <div class=\"colab-df-container\">\n",
              "      <div>\n",
              "<style scoped>\n",
              "    .dataframe tbody tr th:only-of-type {\n",
              "        vertical-align: middle;\n",
              "    }\n",
              "\n",
              "    .dataframe tbody tr th {\n",
              "        vertical-align: top;\n",
              "    }\n",
              "\n",
              "    .dataframe thead th {\n",
              "        text-align: right;\n",
              "    }\n",
              "</style>\n",
              "<table border=\"1\" class=\"dataframe\">\n",
              "  <thead>\n",
              "    <tr style=\"text-align: right;\">\n",
              "      <th></th>\n",
              "      <th>до 23</th>\n",
              "      <th>после</th>\n",
              "      <th>Всего</th>\n",
              "    </tr>\n",
              "  </thead>\n",
              "  <tbody>\n",
              "    <tr>\n",
              "      <th>упоминаний Витамишки</th>\n",
              "      <td>1721.31925</td>\n",
              "      <td>604.68075</td>\n",
              "      <td>2326.0</td>\n",
              "    </tr>\n",
              "    <tr>\n",
              "      <th>другое</th>\n",
              "      <td>450.68075</td>\n",
              "      <td>158.31925</td>\n",
              "      <td>609.0</td>\n",
              "    </tr>\n",
              "    <tr>\n",
              "      <th>Итого</th>\n",
              "      <td>2172.00000</td>\n",
              "      <td>763.00000</td>\n",
              "      <td>2935.0</td>\n",
              "    </tr>\n",
              "  </tbody>\n",
              "</table>\n",
              "</div>\n",
              "      <button class=\"colab-df-convert\" onclick=\"convertToInteractive('df-ed922e4a-8d71-4614-b81e-d5080b5b6a75')\"\n",
              "              title=\"Convert this dataframe to an interactive table.\"\n",
              "              style=\"display:none;\">\n",
              "        \n",
              "  <svg xmlns=\"http://www.w3.org/2000/svg\" height=\"24px\"viewBox=\"0 0 24 24\"\n",
              "       width=\"24px\">\n",
              "    <path d=\"M0 0h24v24H0V0z\" fill=\"none\"/>\n",
              "    <path d=\"M18.56 5.44l.94 2.06.94-2.06 2.06-.94-2.06-.94-.94-2.06-.94 2.06-2.06.94zm-11 1L8.5 8.5l.94-2.06 2.06-.94-2.06-.94L8.5 2.5l-.94 2.06-2.06.94zm10 10l.94 2.06.94-2.06 2.06-.94-2.06-.94-.94-2.06-.94 2.06-2.06.94z\"/><path d=\"M17.41 7.96l-1.37-1.37c-.4-.4-.92-.59-1.43-.59-.52 0-1.04.2-1.43.59L10.3 9.45l-7.72 7.72c-.78.78-.78 2.05 0 2.83L4 21.41c.39.39.9.59 1.41.59.51 0 1.02-.2 1.41-.59l7.78-7.78 2.81-2.81c.8-.78.8-2.07 0-2.86zM5.41 20L4 18.59l7.72-7.72 1.47 1.35L5.41 20z\"/>\n",
              "  </svg>\n",
              "      </button>\n",
              "      \n",
              "  <style>\n",
              "    .colab-df-container {\n",
              "      display:flex;\n",
              "      flex-wrap:wrap;\n",
              "      gap: 12px;\n",
              "    }\n",
              "\n",
              "    .colab-df-convert {\n",
              "      background-color: #E8F0FE;\n",
              "      border: none;\n",
              "      border-radius: 50%;\n",
              "      cursor: pointer;\n",
              "      display: none;\n",
              "      fill: #1967D2;\n",
              "      height: 32px;\n",
              "      padding: 0 0 0 0;\n",
              "      width: 32px;\n",
              "    }\n",
              "\n",
              "    .colab-df-convert:hover {\n",
              "      background-color: #E2EBFA;\n",
              "      box-shadow: 0px 1px 2px rgba(60, 64, 67, 0.3), 0px 1px 3px 1px rgba(60, 64, 67, 0.15);\n",
              "      fill: #174EA6;\n",
              "    }\n",
              "\n",
              "    [theme=dark] .colab-df-convert {\n",
              "      background-color: #3B4455;\n",
              "      fill: #D2E3FC;\n",
              "    }\n",
              "\n",
              "    [theme=dark] .colab-df-convert:hover {\n",
              "      background-color: #434B5C;\n",
              "      box-shadow: 0px 1px 3px 1px rgba(0, 0, 0, 0.15);\n",
              "      filter: drop-shadow(0px 1px 2px rgba(0, 0, 0, 0.3));\n",
              "      fill: #FFFFFF;\n",
              "    }\n",
              "  </style>\n",
              "\n",
              "      <script>\n",
              "        const buttonEl =\n",
              "          document.querySelector('#df-ed922e4a-8d71-4614-b81e-d5080b5b6a75 button.colab-df-convert');\n",
              "        buttonEl.style.display =\n",
              "          google.colab.kernel.accessAllowed ? 'block' : 'none';\n",
              "\n",
              "        async function convertToInteractive(key) {\n",
              "          const element = document.querySelector('#df-ed922e4a-8d71-4614-b81e-d5080b5b6a75');\n",
              "          const dataTable =\n",
              "            await google.colab.kernel.invokeFunction('convertToInteractive',\n",
              "                                                     [key], {});\n",
              "          if (!dataTable) return;\n",
              "\n",
              "          const docLinkHtml = 'Like what you see? Visit the ' +\n",
              "            '<a target=\"_blank\" href=https://colab.research.google.com/notebooks/data_table.ipynb>data table notebook</a>'\n",
              "            + ' to learn more about interactive tables.';\n",
              "          element.innerHTML = '';\n",
              "          dataTable['output_type'] = 'display_data';\n",
              "          await google.colab.output.renderOutput(dataTable, element);\n",
              "          const docLink = document.createElement('div');\n",
              "          docLink.innerHTML = docLinkHtml;\n",
              "          element.appendChild(docLink);\n",
              "        }\n",
              "      </script>\n",
              "    </div>\n",
              "  </div>\n",
              "  "
            ]
          },
          "metadata": {},
          "execution_count": 20
        }
      ]
    },
    {
      "cell_type": "markdown",
      "source": [
        "$ \\Large \\chi^2  = \\sum {   \\frac{(O - E)^2} {E}  } $, O  - наблюдаемое значение, E - ожидаемое значение.\n",
        "\n",
        "$ \\Large \\chi^2  = \\sum {   \\frac{|O - E| - \\frac{1} {2}} {E}  } $ (с поправкой Йеитса - только для таблиц 2х2)"
      ],
      "metadata": {
        "id": "HHCkjvmlK-py"
      }
    },
    {
      "cell_type": "code",
      "source": [
        "chi2, p, dof, ex = chi2_contingency(data.iloc[:2,:2])"
      ],
      "metadata": {
        "id": "JuePh_G1K_tB"
      },
      "execution_count": 22,
      "outputs": []
    },
    {
      "cell_type": "code",
      "source": [
        "chi2,p,dof,ex"
      ],
      "metadata": {
        "colab": {
          "base_uri": "https://localhost:8080/"
        },
        "id": "tpKYJl2ALHkh",
        "outputId": "efdfea26-0cde-4261-8585-19cf08f002ae"
      },
      "execution_count": 23,
      "outputs": [
        {
          "output_type": "execute_result",
          "data": {
            "text/plain": [
              "(0.25013354818703054,\n",
              " 0.6169810577735972,\n",
              " 1,\n",
              " array([[1721.31925043,  604.68074957],\n",
              "        [ 450.68074957,  158.31925043]]))"
            ]
          },
          "metadata": {},
          "execution_count": 23
        }
      ]
    },
    {
      "cell_type": "code",
      "source": [
        "p"
      ],
      "metadata": {
        "colab": {
          "base_uri": "https://localhost:8080/"
        },
        "id": "U1zNbMuJLTTQ",
        "outputId": "d708adea-1b65-45d1-d3d5-b6acc165e982"
      },
      "execution_count": 24,
      "outputs": [
        {
          "output_type": "execute_result",
          "data": {
            "text/plain": [
              "0.6169810577735972"
            ]
          },
          "metadata": {},
          "execution_count": 24
        }
      ]
    },
    {
      "cell_type": "markdown",
      "source": [
        "Критерий Хи-квадрат дает p-value 0.61, т е нулевая гипотеза, что количество упоминаний витамишек не изменилось не может быть отвергнута."
      ],
      "metadata": {
        "id": "A7en5tWfLW2v"
      }
    }
  ]
}